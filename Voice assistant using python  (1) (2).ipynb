{
 "cells": [
  {
   "cell_type": "code",
   "execution_count": null,
   "id": "1679d898-9335-4461-b0ff-5bc2798edff2",
   "metadata": {},
   "outputs": [],
   "source": [
    "pip install speechrecognition"
   ]
  },
  {
   "cell_type": "code",
   "execution_count": null,
   "id": "0c382693-3ad5-4ff2-a80a-ade5bf462ba7",
   "metadata": {},
   "outputs": [],
   "source": [
    "pip install pyttsx3"
   ]
  },
  {
   "cell_type": "code",
   "execution_count": null,
   "id": "810bd45f-652f-4365-8899-8aba42e79a08",
   "metadata": {},
   "outputs": [],
   "source": [
    "pip install pyaudio"
   ]
  },
  {
   "cell_type": "code",
   "execution_count": null,
   "id": "33454738-dbe5-4fd1-8be9-2fd4cedaa57b",
   "metadata": {},
   "outputs": [
    {
     "name": "stdout",
     "output_type": "stream",
     "text": [
      "Listening...\n",
      "Recognizing...\n"
     ]
    }
   ],
   "source": [
    "import speech_recognition as sr\n",
    "import pyttsx3\n",
    "import datetime\n",
    "import webbrowser\n",
    "import sys  \n",
    "\n",
    "# Initialize the text-to-speech engine\n",
    "engine = pyttsx3.init()\n",
    "\n",
    "# Set properties for the voice assistant\n",
    "voices = engine.getProperty('voices')\n",
    "engine.setProperty('voice', voices[0].id)  # You can change [0] to [1] for a female voice\n",
    "engine.setProperty('rate', 150)  # Adjust speaking speed\n",
    "\n",
    "def speak(text):\n",
    "    \"\"\"Convert text to speech.\"\"\"\n",
    "    engine.say(text)\n",
    "    engine.runAndWait()\n",
    "\n",
    "def greet_user():\n",
    "    \"\"\"Greet the user based on the time of day.\"\"\"\n",
    "    hour = datetime.datetime.now().hour\n",
    "    if 0 <= hour < 12:\n",
    "        speak(\"Good Morning!\")\n",
    "    elif 12 <= hour < 18:\n",
    "        speak(\"Good Afternoon!\")\n",
    "    else:\n",
    "        speak(\"Good Evening!\")\n",
    "    speak(\"I am your assistant. How can I help you today?\")\n",
    "\n",
    "def take_command():\n",
    "    \"\"\"Listen to the user's command and return it as text.\"\"\"\n",
    "    recognizer = sr.Recognizer()\n",
    "    with sr.Microphone() as source:\n",
    "        print(\"Listening...\")\n",
    "        recognizer.adjust_for_ambient_noise(source)\n",
    "        try:\n",
    "            audio = recognizer.listen(source, timeout=20, phrase_time_limit=20)\n",
    "            print(\"Recognizing...\")\n",
    "            query = recognizer.recognize_google(audio, language='en-in')\n",
    "            print(f\"You said: {query}\")\n",
    "            return query.lower()\n",
    "        except sr.UnknownValueError:\n",
    "            speak(\"Sorry, I didn't catch that. Could you please repeat?\")\n",
    "            return None\n",
    "        except sr.RequestError:\n",
    "            speak(\"I am unable to connect to the speech recognition service.\")\n",
    "            return None\n",
    "\n",
    "def perform_task(query):\n",
    "    \"\"\"Perform tasks based on the user's command.\"\"\"\n",
    "    if 'open google' in query:\n",
    "        speak(\"Opening Google\")\n",
    "        webbrowser.open(\"https://www.google.com\")\n",
    "    elif 'open youtube' in query:\n",
    "        speak(\"Opening Youtube\")\n",
    "        webbrowser.open(\"https://www.youtube.com\")\n",
    "    elif 'time' in query:\n",
    "        current_time = datetime.datetime.now().strftime(\"%I:%M %p\")\n",
    "        speak(f\"The time is {current_time}\")\n",
    "    elif 'exit' in query or 'stop' in query:\n",
    "        speak(\"Goodbye! Have a nice day!\")\n",
    "        sys.exit()  # Exit the program using sys.exit()\n",
    "    else:\n",
    "        speak(\"Sorry, I don't know how to do that yet.\")\n",
    "\n",
    "# Main program\n",
    "if __name__ == \"__main__\":\n",
    "    greet_user()\n",
    "    while True:\n",
    "        command = take_command()\n",
    "        if command:\n",
    "            perform_task(command)\n"
   ]
  },
  {
   "cell_type": "code",
   "execution_count": null,
   "id": "684b5b7f-c3e1-47c9-a152-253f6338e40c",
   "metadata": {},
   "outputs": [],
   "source": []
  },
  {
   "cell_type": "code",
   "execution_count": null,
   "id": "5addbf7e-2cb6-4a58-a134-a111ed557e9e",
   "metadata": {},
   "outputs": [],
   "source": []
  }
 ],
 "metadata": {
  "kernelspec": {
   "display_name": "Python 3 (ipykernel)",
   "language": "python",
   "name": "python3"
  },
  "language_info": {
   "codemirror_mode": {
    "name": "ipython",
    "version": 3
   },
   "file_extension": ".py",
   "mimetype": "text/x-python",
   "name": "python",
   "nbconvert_exporter": "python",
   "pygments_lexer": "ipython3",
   "version": "3.12.4"
  }
 },
 "nbformat": 4,
 "nbformat_minor": 5
}
